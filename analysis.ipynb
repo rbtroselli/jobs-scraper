{
 "cells": [
  {
   "cell_type": "code",
   "execution_count": 1,
   "metadata": {},
   "outputs": [],
   "source": [
    "import pandas as pd\n",
    "import sqlite3\n",
    "import seaborn as sns\n",
    "connection = sqlite3.connect('data/jobs.db')"
   ]
  },
  {
   "cell_type": "code",
   "execution_count": 75,
   "metadata": {},
   "outputs": [
    {
     "data": {
      "text/html": [
       "<div>\n",
       "<style scoped>\n",
       "    .dataframe tbody tr th:only-of-type {\n",
       "        vertical-align: middle;\n",
       "    }\n",
       "\n",
       "    .dataframe tbody tr th {\n",
       "        vertical-align: top;\n",
       "    }\n",
       "\n",
       "    .dataframe thead th {\n",
       "        text-align: right;\n",
       "    }\n",
       "</style>\n",
       "<table border=\"1\" class=\"dataframe\">\n",
       "  <thead>\n",
       "    <tr style=\"text-align: right;\">\n",
       "      <th></th>\n",
       "      <th>de_posts</th>\n",
       "      <th>ds_posts</th>\n",
       "    </tr>\n",
       "  </thead>\n",
       "  <tbody>\n",
       "    <tr>\n",
       "      <th>0</th>\n",
       "      <td>590</td>\n",
       "      <td>474</td>\n",
       "    </tr>\n",
       "  </tbody>\n",
       "</table>\n",
       "</div>"
      ],
      "text/plain": [
       "   de_posts  ds_posts\n",
       "0       590       474"
      ]
     },
     "execution_count": 75,
     "metadata": {},
     "output_type": "execute_result"
    },
    {
     "data": {
      "image/png": "[encoded data removed]",
      "text/plain": [
       "<Figure size 360x360 with 1 Axes>"
      ]
     },
     "metadata": {},
     "output_type": "display_data"
    },
    {
     "data": {
      "image/png": "[encoded data removed]",
      "text/plain": [
       "<Figure size 360x360 with 1 Axes>"
      ]
     },
     "metadata": {},
     "output_type": "display_data"
    }
   ],
   "source": [
    "df = pd.read_sql(\"\"\"\n",
    "    SELECT\n",
    "        SUM(CASE WHEN job_role='de' THEN 1 ELSE 0 END) AS de_posts,\n",
    "        SUM(CASE WHEN job_role='ds' THEN 1 ELSE 0 END) AS ds_posts\n",
    "    FROM\n",
    "        jobs    \"\"\",con=connection)\n",
    "\n",
    "sns.set_theme('notebook')\n",
    "sns.set_style('white')\n",
    "\n",
    "ax = df.plot(kind='bar', figsize=(5,5)) # use ax to then plot values\n",
    "for container in ax.containers:\n",
    "    ax.bar_label(container)\n",
    "df[['de_posts','ds_posts']].T.plot(kind='pie', y=0, ylabel='posts', autopct='%1.1f%%', figsize=(5,5), fontsize=15) # Transpose and plot\n",
    "df"
   ]
  },
  {
   "cell_type": "code",
   "execution_count": 67,
   "metadata": {},
   "outputs": [
    {
     "data": {
      "text/html": [
       "<div>\n",
       "<style scoped>\n",
       "    .dataframe tbody tr th:only-of-type {\n",
       "        vertical-align: middle;\n",
       "    }\n",
       "\n",
       "    .dataframe tbody tr th {\n",
       "        vertical-align: top;\n",
       "    }\n",
       "\n",
       "    .dataframe thead th {\n",
       "        text-align: right;\n",
       "    }\n",
       "</style>\n",
       "<table border=\"1\" class=\"dataframe\">\n",
       "  <thead>\n",
       "    <tr style=\"text-align: right;\">\n",
       "      <th></th>\n",
       "      <th>country</th>\n",
       "      <th>total_posts</th>\n",
       "      <th>de_posts</th>\n",
       "      <th>ds_posts</th>\n",
       "    </tr>\n",
       "  </thead>\n",
       "  <tbody>\n",
       "    <tr>\n",
       "      <th>0</th>\n",
       "      <td>us</td>\n",
       "      <td>500</td>\n",
       "      <td>245</td>\n",
       "      <td>255</td>\n",
       "    </tr>\n",
       "    <tr>\n",
       "      <th>1</th>\n",
       "      <td>in</td>\n",
       "      <td>123</td>\n",
       "      <td>89</td>\n",
       "      <td>34</td>\n",
       "    </tr>\n",
       "    <tr>\n",
       "      <th>2</th>\n",
       "      <td>de</td>\n",
       "      <td>71</td>\n",
       "      <td>44</td>\n",
       "      <td>27</td>\n",
       "    </tr>\n",
       "    <tr>\n",
       "      <th>3</th>\n",
       "      <td>uk</td>\n",
       "      <td>61</td>\n",
       "      <td>40</td>\n",
       "      <td>21</td>\n",
       "    </tr>\n",
       "    <tr>\n",
       "      <th>4</th>\n",
       "      <td>ca</td>\n",
       "      <td>48</td>\n",
       "      <td>25</td>\n",
       "      <td>23</td>\n",
       "    </tr>\n",
       "    <tr>\n",
       "      <th>5</th>\n",
       "      <td>fr</td>\n",
       "      <td>46</td>\n",
       "      <td>24</td>\n",
       "      <td>22</td>\n",
       "    </tr>\n",
       "    <tr>\n",
       "      <th>6</th>\n",
       "      <td>nl</td>\n",
       "      <td>21</td>\n",
       "      <td>11</td>\n",
       "      <td>10</td>\n",
       "    </tr>\n",
       "    <tr>\n",
       "      <th>7</th>\n",
       "      <td>it</td>\n",
       "      <td>16</td>\n",
       "      <td>9</td>\n",
       "      <td>7</td>\n",
       "    </tr>\n",
       "    <tr>\n",
       "      <th>8</th>\n",
       "      <td>se</td>\n",
       "      <td>14</td>\n",
       "      <td>8</td>\n",
       "      <td>6</td>\n",
       "    </tr>\n",
       "    <tr>\n",
       "      <th>9</th>\n",
       "      <td>pl</td>\n",
       "      <td>14</td>\n",
       "      <td>11</td>\n",
       "      <td>3</td>\n",
       "    </tr>\n",
       "  </tbody>\n",
       "</table>\n",
       "</div>"
      ],
      "text/plain": [
       "  country  total_posts  de_posts  ds_posts\n",
       "0      us          500       245       255\n",
       "1      in          123        89        34\n",
       "2      de           71        44        27\n",
       "3      uk           61        40        21\n",
       "4      ca           48        25        23\n",
       "5      fr           46        24        22\n",
       "6      nl           21        11        10\n",
       "7      it           16         9         7\n",
       "8      se           14         8         6\n",
       "9      pl           14        11         3"
      ]
     },
     "execution_count": 67,
     "metadata": {},
     "output_type": "execute_result"
    },
    {
     "data": {
      "image/png": "[encoded data removed]",
      "text/plain": [
       "<Figure size 1080x360 with 1 Axes>"
      ]
     },
     "metadata": {},
     "output_type": "display_data"
    }
   ],
   "source": [
    "df = pd.read_sql(\"\"\"\n",
    "    SELECT\n",
    "        country,\n",
    "        COUNT(*) AS total_posts,\n",
    "        SUM(CASE WHEN job_role='de' THEN 1 ELSE 0 END) AS de_posts,\n",
    "        SUM(CASE WHEN job_role='ds' THEN 1 ELSE 0 END) AS ds_posts\n",
    "    FROM\n",
    "        jobs\n",
    "    GROUP BY\n",
    "        country\n",
    "    ORDER BY\n",
    "        count(*) DESC\n",
    "    LIMIT\n",
    "        10   \"\"\",con=connection)\n",
    "sns.set_theme('notebook')\n",
    "sns.set_style('white')\n",
    "ax = df[['country','de_posts','ds_posts']].plot(kind='bar', x='country', figsize=(15,5), ylabel='posts', grid=True)\n",
    "for container in ax.containers:\n",
    "    ax.bar_label(container)\n",
    "df"
   ]
  },
  {
   "cell_type": "code",
   "execution_count": 4,
   "metadata": {},
   "outputs": [
    {
     "data": {
      "text/html": [
       "<div>\n",
       "<style scoped>\n",
       "    .dataframe tbody tr th:only-of-type {\n",
       "        vertical-align: middle;\n",
       "    }\n",
       "\n",
       "    .dataframe tbody tr th {\n",
       "        vertical-align: top;\n",
       "    }\n",
       "\n",
       "    .dataframe thead th {\n",
       "        text-align: right;\n",
       "    }\n",
       "</style>\n",
       "<table border=\"1\" class=\"dataframe\">\n",
       "  <thead>\n",
       "    <tr style=\"text-align: right;\">\n",
       "      <th></th>\n",
       "      <th>scrape_date</th>\n",
       "      <th>COUNT(*)</th>\n",
       "    </tr>\n",
       "  </thead>\n",
       "  <tbody>\n",
       "    <tr>\n",
       "      <th>0</th>\n",
       "      <td>2022-04-23</td>\n",
       "      <td>928</td>\n",
       "    </tr>\n",
       "    <tr>\n",
       "      <th>1</th>\n",
       "      <td>2022-04-24</td>\n",
       "      <td>136</td>\n",
       "    </tr>\n",
       "  </tbody>\n",
       "</table>\n",
       "</div>"
      ],
      "text/plain": [
       "  scrape_date  COUNT(*)\n",
       "0  2022-04-23       928\n",
       "1  2022-04-24       136"
      ]
     },
     "execution_count": 4,
     "metadata": {},
     "output_type": "execute_result"
    }
   ],
   "source": [
    "df = pd.read_sql(\"\"\"\n",
    "    SELECT\n",
    "        scrape_date,\n",
    "        COUNT(*)\n",
    "    FROM\n",
    "        jobs\n",
    "    GROUP BY\n",
    "        scrape_date\n",
    "    ORDER BY\n",
    "        count(*) DESC   \"\"\",con=connection)\n",
    "df"
   ]
  },
  {
   "cell_type": "code",
   "execution_count": 5,
   "metadata": {},
   "outputs": [
    {
     "data": {
      "text/html": [
       "<div>\n",
       "<style scoped>\n",
       "    .dataframe tbody tr th:only-of-type {\n",
       "        vertical-align: middle;\n",
       "    }\n",
       "\n",
       "    .dataframe tbody tr th {\n",
       "        vertical-align: top;\n",
       "    }\n",
       "\n",
       "    .dataframe thead th {\n",
       "        text-align: right;\n",
       "    }\n",
       "</style>\n",
       "<table border=\"1\" class=\"dataframe\">\n",
       "  <thead>\n",
       "    <tr style=\"text-align: right;\">\n",
       "      <th></th>\n",
       "      <th>job_role_ext</th>\n",
       "      <th>sql_percentage</th>\n",
       "      <th>python_percentage</th>\n",
       "      <th>airflow_percentage</th>\n",
       "      <th>cloud_percentage</th>\n",
       "    </tr>\n",
       "  </thead>\n",
       "  <tbody>\n",
       "    <tr>\n",
       "      <th>0</th>\n",
       "      <td>data engineer</td>\n",
       "      <td>76.440678</td>\n",
       "      <td>65.593220</td>\n",
       "      <td>17.457627</td>\n",
       "      <td>60.000000</td>\n",
       "    </tr>\n",
       "    <tr>\n",
       "      <th>1</th>\n",
       "      <td>data scientist</td>\n",
       "      <td>64.345992</td>\n",
       "      <td>84.599156</td>\n",
       "      <td>3.375527</td>\n",
       "      <td>28.902954</td>\n",
       "    </tr>\n",
       "  </tbody>\n",
       "</table>\n",
       "</div>"
      ],
      "text/plain": [
       "     job_role_ext  sql_percentage  python_percentage  airflow_percentage  \\\n",
       "0   data engineer       76.440678          65.593220           17.457627   \n",
       "1  data scientist       64.345992          84.599156            3.375527   \n",
       "\n",
       "   cloud_percentage  \n",
       "0         60.000000  \n",
       "1         28.902954  "
      ]
     },
     "execution_count": 5,
     "metadata": {},
     "output_type": "execute_result"
    }
   ],
   "source": [
    "df = pd.read_sql(\"\"\"\n",
    "    SELECT\n",
    "        job_role_ext,\n",
    "        SUM(CASE\n",
    "            WHEN UPPER(description) LIKE '%SQL%' THEN 1\n",
    "            ELSE 0\n",
    "            END) / CAST(COUNT(*) AS float) *100 AS sql_percentage,\n",
    "        SUM(CASE\n",
    "            WHEN UPPER(description) LIKE '%PYTHON%' THEN 1\n",
    "            ELSE 0\n",
    "            END) / CAST(COUNT(*) AS float) *100 AS python_percentage,\n",
    "        SUM(CASE\n",
    "            WHEN UPPER(description) LIKE '%AIRFLOW%' THEN 1\n",
    "            ELSE 0\n",
    "            END) / CAST(COUNT(*) AS float) *100 AS airflow_percentage,\n",
    "        SUM(CASE\n",
    "            WHEN UPPER(description) LIKE '%AWS%' OR\n",
    "            UPPER(description) LIKE '%GCP%' OR \n",
    "            UPPER(description) LIKE '%AZURE%' THEN 1\n",
    "            ELSE 0\n",
    "            END) / CAST(COUNT(*) AS float) *100 AS cloud_percentage\n",
    "    FROM\n",
    "        jobs\n",
    "    GROUP BY\n",
    "        job_role_ext\n",
    "    ORDER BY\n",
    "        2 DESC\n",
    "    LIMIT\n",
    "        10   \"\"\",con=connection)\n",
    "df"
   ]
  },
  {
   "cell_type": "code",
   "execution_count": 29,
   "metadata": {},
   "outputs": [],
   "source": [
    "connection.close()"
   ]
  },
  {
   "cell_type": "markdown",
   "metadata": {},
   "source": [
    "wordcloud!!! and graphs. world map"
   ]
  }
 ],
 "metadata": {
  "interpreter": {
   "hash": "3d0fcdbfc8011184406b9b32c99928c15a299ab2660b742efe64e73d2ef6f4b3"
  },
  "kernelspec": {
   "display_name": "Python 3.9.12 ('airflowenv')",
   "language": "python",
   "name": "python3"
  },
  "language_info": {
   "codemirror_mode": {
    "name": "ipython",
    "version": 3
   },
   "file_extension": ".py",
   "mimetype": "text/x-python",
   "name": "python",
   "nbconvert_exporter": "python",
   "pygments_lexer": "ipython3",
   "version": "3.8.13"
  },
  "orig_nbformat": 4
 },
 "nbformat": 4,
 "nbformat_minor": 2
}
